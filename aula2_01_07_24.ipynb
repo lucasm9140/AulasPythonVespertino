{
 "cells": [
  {
   "cell_type": "markdown",
   "metadata": {},
   "source": [
    "## Declarando Variáveis"
   ]
  },
  {
   "cell_type": "code",
   "execution_count": 3,
   "metadata": {},
   "outputs": [
    {
     "name": "stdout",
     "output_type": "stream",
     "text": [
      "karython gomes <class 'str'>\n",
      "<class 'int'>\n",
      "<class 'float'>\n",
      "<class 'bool'>\n"
     ]
    }
   ],
   "source": [
    "nome = 'karython gomes' #string\n",
    "idade = 25 # inteiro\n",
    "peso = 80 # float\n",
    "altura = 1.75 # float\n",
    "instrutor = True # boolean\n",
    "\n",
    "print(nome)\n",
    "\n",
    "print(nome, type(nome))\n",
    "\n",
    "print(type(idade))\n",
    "print(type(altura))\n",
    "print(type(instrutor))"
   ]
  },
  {
   "cell_type": "markdown",
   "metadata": {},
   "source": [
    "## Convertendo tipos de Dados"
   ]
  },
  {
   "cell_type": "code",
   "execution_count": 2,
   "metadata": {},
   "outputs": [
    {
     "name": "stdout",
     "output_type": "stream",
     "text": [
      "valor sem conversao <class 'int'>\n",
      "segundo valor ja convertido <class 'str'>\n"
     ]
    }
   ],
   "source": [
    "valor = 15\n",
    "print('valor sem conversao', type(valor))\n",
    "valor = str(valor)\n",
    "print('segundo valor ja convertido',type(valor))"
   ]
  },
  {
   "cell_type": "markdown",
   "metadata": {},
   "source": [
    "## Concatenação\n",
    "\n",
    "- Concatenação usando o sinal de +, eu não consigo concatenar variáveis do tipo int(inteiro)"
   ]
  },
  {
   "cell_type": "markdown",
   "metadata": {},
   "source": []
  },
  {
   "cell_type": "code",
   "execution_count": 10,
   "metadata": {},
   "outputs": [
    {
     "name": "stdout",
     "output_type": "stream",
     "text": [
      "ola, meu nome é karython gomes! tenho 15 anos de idade\n",
      "ola, meu nome é  karython gomes  tenho  15 anos de idade\n",
      "ola, meu nome é karython gomes e tenho 15 anos de idade!\n"
     ]
    }
   ],
   "source": [
    "nome = 'karython gomes'\n",
    "idade = 15\n",
    "altura = 1.75\n",
    "\n",
    "# modo 1\n",
    "print('ola, meu nome é '+ nome + '! tenho '+ str(idade) + ' anos de idade')\n",
    "\n",
    "# modo 2\n",
    "print('ola, meu nome é ', nome,' tenho ', idade, 'anos de idade')\n",
    "\n",
    "# modo 3\n",
    "print(f'ola, meu nome é {nome} e tenho {idade} anos de idade!')"
   ]
  },
  {
   "cell_type": "markdown",
   "metadata": {},
   "source": [
    "## Entrada de Dados"
   ]
  },
  {
   "cell_type": "code",
   "execution_count": 13,
   "metadata": {},
   "outputs": [
    {
     "name": "stdout",
     "output_type": "stream",
     "text": [
      "gomes\n",
      "15\n"
     ]
    }
   ],
   "source": [
    "nome = input('Digite seu nome: ')\n",
    "print(nome)\n",
    "\n",
    "idade = int(input('Digite sua idade: '))\n",
    "print(idade)"
   ]
  },
  {
   "cell_type": "markdown",
   "metadata": {},
   "source": [
    "## Atividade\n",
    "- Criar um sistema para receber o nome, idade, peso e altura do usuario\n",
    "- Restringir a idade para receber somente valores inteiros\n",
    "- Restringir a altura e peso para o tipo float\n",
    "- Imprimam todas as informações do usuário usando a concatenação f string\n",
    "- Imprimam o Tipo de dado de cada uma das variaveis"
   ]
  },
  {
   "cell_type": "code",
   "execution_count": 14,
   "metadata": {},
   "outputs": [
    {
     "name": "stdout",
     "output_type": "stream",
     "text": [
      "Ola, seu nome é ('Gomes', <class 'str'>) \n",
      "tenho 25 anos de idade e o \n",
      "peso 80.0 e \n",
      "altura 1.75\n"
     ]
    }
   ],
   "source": [
    "nome = input('Digite seu nome: ')\n",
    "idade = int(input('Digite sua idade: '))\n",
    "peso = float(input('Digite seu peso: '))\n",
    "altura = float(input(\"Digite sua altura: \"))\n",
    "\n",
    "print(f'Ola, seu nome é {nome, type(nome)} \n",
    "      \\ntenho {idade} anos de idade e o \\npeso {peso} e \n",
    "      \\naltura {altura}')"
   ]
  }
 ],
 "metadata": {
  "kernelspec": {
   "display_name": ".venv",
   "language": "python",
   "name": "python3"
  },
  "language_info": {
   "codemirror_mode": {
    "name": "ipython",
    "version": 3
   },
   "file_extension": ".py",
   "mimetype": "text/x-python",
   "name": "python",
   "nbconvert_exporter": "python",
   "pygments_lexer": "ipython3",
   "version": "3.12.4"
  }
 },
 "nbformat": 4,
 "nbformat_minor": 2
}
