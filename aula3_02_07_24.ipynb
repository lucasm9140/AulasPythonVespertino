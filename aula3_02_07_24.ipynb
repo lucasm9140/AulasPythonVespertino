{
 "cells": [
  {
   "cell_type": "markdown",
   "metadata": {},
   "source": [
    "## Revisão aula 2\n",
    "\n",
    "- Variáveis\n",
    "    - Para que serve as variáveis?\n",
    "        - Espaço na memoria e serve para armazenar um valor.\n",
    "    - Como declaro variáveis no python?\n",
    "        - Passo o nome da variavel e atribuo um valor a ela.\n",
    "    - Qual sinal para atribuir o valor a uma variavel?\n",
    "        - sinal de =\n",
    "    - Como definir o tipo de dado de uma variavel, se é numerico, textual, ou booleano?\n",
    "        - o paython define automaticamente\n",
    "    - Como verificar o tipo de dado de uma variável?\n",
    "        - usar a função print(type(variavel))\n",
    "    - Como converter o tipo de uma variavel\n",
    "        - usando a função do tipo desejado variavel = int(variavel)\n",
    "\n",
    "- Concatenação\n",
    "    - Como concatenar valores no python\n",
    "    - Quais os 3 tipos de concatenação e as especificações de cada uma?\n",
    "        - Com sinal de + a , e f string\n",
    "    - Como usar a concatenação f string?\n",
    "        - usando f e as {}\n",
    "    - É possível concatenar uma variável do tipo inteiro? Como?\n",
    "\n",
    "- Dados entrada/saida\n",
    "    - Como imprimir o texto ('Ola mundo!') no console?\n",
    "        - função print('')\n",
    "    - Como imprimir o valor de uma variável?\n",
    "        - print(variavel)\n",
    "    - Como imprimir um texto e uma variável?\n",
    "    - Como solicitar ao usuario inserir uma informação pelo console?\n",
    "        - usando a função input()\n",
    "    - Como restringir uma entrada para que seja de um tipo de dado específico?\n",
    "\n"
   ]
  },
  {
   "cell_type": "markdown",
   "metadata": {},
   "source": [
    "## Operadores\n",
    "- soma\n",
    "- subtração\n",
    "- multiplicação\n",
    "- divisão\n"
   ]
  },
  {
   "cell_type": "code",
   "execution_count": 7,
   "metadata": {},
   "outputs": [
    {
     "name": "stdout",
     "output_type": "stream",
     "text": [
      "20\n",
      "1010\n",
      "20\n",
      "O resultado é: 30\n"
     ]
    }
   ],
   "source": [
    "# Soma\n",
    "print(10+10)\n",
    "# concatenação\n",
    "print('10'+'10')\n",
    "\n",
    "# somando com variáveis\n",
    "num1 = 10\n",
    "num2 = 10\n",
    "\n",
    "soma = num1 + num2\n",
    "print(soma)\n",
    "\n",
    "valor1 = input('Digite o primeiro valor: ')\n",
    "valor1 = int(valor1)\n",
    "\n",
    "valor2 = input('Digite o segundo valor: ')\n",
    "valor2 = int(valor2)\n",
    "\n",
    "resultado = valor1 + valor2\n",
    "print(f'O resultado é: {resultado}')"
   ]
  },
  {
   "cell_type": "code",
   "execution_count": 11,
   "metadata": {},
   "outputs": [
    {
     "name": "stdout",
     "output_type": "stream",
     "text": [
      "20\n",
      "Resultado da subtração é: 10\n"
     ]
    }
   ],
   "source": [
    "# Subtração\n",
    "\n",
    "num1 = 70\n",
    "num2 = 50\n",
    "\n",
    "subtracao = num1 - num2\n",
    "print(subtracao)\n",
    "\n",
    "valor1 = int(input(\"Digitar primeiro numero: \"))\n",
    "valor2 = int(input(\"Digite o segundo valor: \"))\n",
    "\n",
    "resultado = valor1 - valor2\n",
    "print(f\"Resultado da subtração é: {resultado}\")"
   ]
  },
  {
   "cell_type": "code",
   "execution_count": 13,
   "metadata": {},
   "outputs": [
    {
     "name": "stdout",
     "output_type": "stream",
     "text": [
      "O resultado (0.5, <class 'float'>)\n"
     ]
    }
   ],
   "source": [
    "num1 = 10\n",
    "num2 = 20\n",
    "divisao = num1 / num2\n",
    "print(f'O resultado {divisao, type(divisao)}')"
   ]
  },
  {
   "cell_type": "code",
   "execution_count": 14,
   "metadata": {},
   "outputs": [
    {
     "name": "stdout",
     "output_type": "stream",
     "text": [
      "O resultado (200, <class 'int'>)\n"
     ]
    }
   ],
   "source": [
    "num1 = 10\n",
    "num2 = 20\n",
    "multiplica = num1 * num2\n",
    "print(f'O resultado {multiplica, type(multiplica)}')"
   ]
  },
  {
   "cell_type": "markdown",
   "metadata": {},
   "source": [
    "## Atividade\n",
    "#### Desafio 1 \n",
    "- Declare 2 variáveis, cada uma com um valor definido. Some e mostre o resultado concatenado a um texto.\n",
    "\n",
    "#### Desafio 2\n",
    "- Crie um sistema onde o usuário irá inserir 2 valores, guarde-os em variaveis, e em seguida realize as 4 operações matemáticas basicas (+, -, *, /) e mostre o resultado de cada uma na tela com um texto indicando qual operação foi realizada.\n",
    "\n",
    "#### Desafio 3\n",
    "- Crie um sistema que receba o nome do usuario, a idade, so podendo receber um valor inteiro, em seguida mostre as informações obtidas (nome e idade) e peça ao usuario que digite 2 números para que sejam somados, mostre a soma dos 2 numeros."
   ]
  },
  {
   "cell_type": "code",
   "execution_count": 1,
   "metadata": {},
   "outputs": [
    {
     "name": "stdout",
     "output_type": "stream",
     "text": [
      "O resultado de 20 + 20 é: 40\n"
     ]
    }
   ],
   "source": [
    "# Correção 1\n",
    "\n",
    "vlr1 = 20\n",
    "vlr2 = 20\n",
    "\n",
    "soma = vlr1 + vlr2\n",
    "print(f\"O resultado de {vlr1} + {vlr2} é: {soma}\")"
   ]
  },
  {
   "cell_type": "code",
   "execution_count": 4,
   "metadata": {},
   "outputs": [
    {
     "name": "stdout",
     "output_type": "stream",
     "text": [
      "O resultado da soma de 50 + 30 é: 80\n",
      "O resultado da divisao de 50 / 30 é: 1.6666666666666667\n",
      "O resultado da multiplicação de 50 * 30 é: 1500\n",
      "O resultado da subtração de 50 - 30 é: 20\n"
     ]
    }
   ],
   "source": [
    "# Correção 2\n",
    "\n",
    "num1 = int(input(\"Digite um numero inteiro: \"))\n",
    "num2 = int(input(\"Digite outro numero inteiro: \"))\n",
    "\n",
    "soma = num1 + num2\n",
    "divisao = num1 / num2\n",
    "multiplicacao = num1 * num2\n",
    "subtracao = num1 - num2\n",
    "\n",
    "print(f'O resultado da soma de {num1} + {num2} é: {soma}')\n",
    "print(f'O resultado da divisao de {num1} / {num2} é: {divisao}')\n",
    "print(f'O resultado da multiplicação de {num1} * {num2} é: {multiplicacao}')\n",
    "print(f'O resultado da subtração de {num1} - {num2} é: {subtracao}')"
   ]
  },
  {
   "cell_type": "code",
   "execution_count": 3,
   "metadata": {},
   "outputs": [
    {
     "name": "stdout",
     "output_type": "stream",
     "text": [
      "Seu nome é gomes e tem 25 anos de idade!\n",
      "A soma dos números 10 + 20 é: 30\n"
     ]
    }
   ],
   "source": [
    "# Correção 3\n",
    "\n",
    "nome = input(\"Digite seu nome: \")\n",
    "idade = int(input(\"Digite sua idade: \"))\n",
    "\n",
    "print(f'Seu nome é {nome} e tem {idade} anos de idade!')\n",
    "\n",
    "numero1 = int(input(\"Digite o primeiro numero: \"))\n",
    "numero2 = int(input(\"Digite o segundo numero: \"))\n",
    "\n",
    "soma = numero1 + numero2\n",
    "print(f\"A soma dos números {numero1} + {numero2} é: {soma}\")"
   ]
  }
 ],
 "metadata": {
  "kernelspec": {
   "display_name": ".venv",
   "language": "python",
   "name": "python3"
  },
  "language_info": {
   "codemirror_mode": {
    "name": "ipython",
    "version": 3
   },
   "file_extension": ".py",
   "mimetype": "text/x-python",
   "name": "python",
   "nbconvert_exporter": "python",
   "pygments_lexer": "ipython3",
   "version": "3.12.4"
  }
 },
 "nbformat": 4,
 "nbformat_minor": 2
}
